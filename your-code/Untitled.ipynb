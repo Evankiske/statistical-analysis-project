{
 "cells": [
  {
   "cell_type": "code",
   "execution_count": 1,
   "metadata": {},
   "outputs": [],
   "source": [
    "import pandas as pd"
   ]
  },
  {
   "cell_type": "code",
   "execution_count": 2,
   "metadata": {},
   "outputs": [],
   "source": [
    "df = pd.read_csv('../Pokemon.csv')"
   ]
  },
  {
   "cell_type": "code",
   "execution_count": 3,
   "metadata": {},
   "outputs": [
    {
     "data": {
      "text/plain": [
       "Index(['#', 'Name', 'Type1', 'Type2', 'Generation', 'Legendary',\n",
       "       'TypesStrenght', 'Weak', 'Normal', 'Resist', 'Inmune', 'EvolutionsLeft',\n",
       "       'BaseTotal', 'HP', 'Attack', 'Defense', 'Sp.Atk', 'Sp.Def', 'Speed',\n",
       "       'Hind-HP', 'Hind-Attack', 'Hind-Defense', 'Hind-Sp.Atk', 'Hind-Sp.Def',\n",
       "       'Hind-Speed', 'Neutra-HP', 'Neutral-Attack', 'Neutral-Defense',\n",
       "       'Neutral-Sp.Atk', 'Neutral-Sp.Def', 'Neutral-Speed', 'Benef-HP',\n",
       "       'Benef-Attack', 'Benef-Defense', 'Benef-Sp.Atk', 'Benef-Sp.Def',\n",
       "       'Benef-Speed', 'CumSum', 'Male_Ratio', 'Female_Ratio'],\n",
       "      dtype='object')"
      ]
     },
     "execution_count": 3,
     "metadata": {},
     "output_type": "execute_result"
    }
   ],
   "source": [
    "df.columns"
   ]
  },
  {
   "cell_type": "code",
   "execution_count": 4,
   "metadata": {},
   "outputs": [],
   "source": [
    "lista = ['Hind-HP', 'Hind-Attack', 'Hind-Defense', 'Hind-Sp.Atk', 'Hind-Sp.Def',\n",
    "       'Hind-Speed', 'Neutra-HP', 'Neutral-Attack', 'Neutral-Defense',\n",
    "       'Neutral-Sp.Atk', 'Neutral-Sp.Def', 'Neutral-Speed', 'Benef-HP',\n",
    "       'Benef-Attack', 'Benef-Defense', 'Benef-Sp.Atk', 'Benef-Sp.Def',\n",
    "       'Benef-Speed']"
   ]
  },
  {
   "cell_type": "code",
   "execution_count": 6,
   "metadata": {},
   "outputs": [],
   "source": [
    "for el in lista:\n",
    "    new = df[el].str.split(\"-\", n = 1, expand = True)\n",
    "    df[\"Min_\"+el]= pd.to_numeric(new[0]) \n",
    "    df[\"Max_\"+el]= pd.to_numeric(new[1])\n",
    "    df.drop(columns =[el], inplace = True)"
   ]
  },
  {
   "cell_type": "code",
   "execution_count": 9,
   "metadata": {},
   "outputs": [
    {
     "data": {
      "text/plain": [
       "58"
      ]
     },
     "execution_count": 9,
     "metadata": {},
     "output_type": "execute_result"
    }
   ],
   "source": [
    "df.shape[1]"
   ]
  },
  {
   "cell_type": "code",
   "execution_count": 10,
   "metadata": {},
   "outputs": [],
   "source": [
    "df.to_csv('Pokemon.csv', sep='\\t', index=False)"
   ]
  },
  {
   "cell_type": "code",
   "execution_count": null,
   "metadata": {},
   "outputs": [],
   "source": []
  }
 ],
 "metadata": {
  "kernelspec": {
   "display_name": "Python 3",
   "language": "python",
   "name": "python3"
  },
  "language_info": {
   "codemirror_mode": {
    "name": "ipython",
    "version": 3
   },
   "file_extension": ".py",
   "mimetype": "text/x-python",
   "name": "python",
   "nbconvert_exporter": "python",
   "pygments_lexer": "ipython3",
   "version": "3.7.3"
  }
 },
 "nbformat": 4,
 "nbformat_minor": 2
}
